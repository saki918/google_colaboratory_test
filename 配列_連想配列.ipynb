{
  "nbformat": 4,
  "nbformat_minor": 0,
  "metadata": {
    "colab": {
      "provenance": [],
      "include_colab_link": true
    },
    "kernelspec": {
      "name": "python3",
      "display_name": "Python 3"
    },
    "language_info": {
      "name": "python"
    }
  },
  "cells": [
    {
      "cell_type": "markdown",
      "metadata": {
        "id": "view-in-github",
        "colab_type": "text"
      },
      "source": [
        "<a href=\"https://colab.research.google.com/github/saki918/google_colaboratory_test/blob/main/%E9%85%8D%E5%88%97_%E9%80%A3%E6%83%B3%E9%85%8D%E5%88%97.ipynb\" target=\"_parent\"><img src=\"https://colab.research.google.com/assets/colab-badge.svg\" alt=\"Open In Colab\"/></a>"
      ]
    },
    {
      "cell_type": "markdown",
      "source": [
        "配列・連想配列\n",
        "Pythonに限らずプログラミングを行う上で配列は非常に重要です。ここでは主要な配列の概要を示すとともに、同じような機能の配列であっても言語ごとに呼び方が異なる場合があるため、ここでまとめておきます。\n",
        "\n",
        "1 配列の種類\n",
        "2 他の言語では\n",
        "配列の種類\n",
        "主な配列には以下のようなものがあります。\n",
        "\n",
        "タプル（tuple）\n",
        "任意の数の要素を持つことができる配列です。作成したあとは要素の追加や削除を行うことができません。\n",
        "リスト（list）\n",
        "任意の数の要素を持つことができる配列です。作成したあとでも要素の追加や削除を行うことができます。\n",
        "ディクショナリ・辞書（dict）\n",
        "任意の数の要素を持つことができる配列で、keyとvalueのペアを一要素とします。作成した後でも要素の追加や削除を行うことができますが、1つのディクショナリの中で同じkeyを持つことができません。\n",
        "セット・集合（set）\n",
        "任意の数の要素を持つことができる配列です。作成した後でも要素の追加や削除を行うことができますが、1つのセットの中で重複した要素を持つことができません。\n",
        "他の言語では\n",
        "他のプログラミング言語の経験がある方は、リストやディクショナリという呼称よりも配列、連想配列などの方がなじみがあるかもしれません。Pythonにおける配列・連想配列にあたるクラスは次の通りです。\n",
        "\n",
        "配列、リスト → リスト\n",
        "連想配列、マップ、ハッシュ → ディクショナリ"
      ],
      "metadata": {
        "id": "YcHT9cU6E281"
      }
    },
    {
      "cell_type": "code",
      "execution_count": null,
      "metadata": {
        "colab": {
          "base_uri": "https://localhost:8080/"
        },
        "id": "Owd8Uz0H_zL6",
        "outputId": "c422b8af-2427-48d1-b463-6d93d04bd7db"
      },
      "outputs": [
        {
          "output_type": "stream",
          "name": "stdout",
          "text": [
            "(2023, 3, 10)\n",
            "2023\n",
            "3\n",
            "10\n"
          ]
        }
      ],
      "source": [
        "# 配列・連想配列\n",
        "\n",
        "# タプル 複数の要素から構成されそれを1つのものとして扱える機能\n",
        "# 作成した後に要素の追加や削除は出来ない。\n",
        "import datetime\n",
        "\n",
        "def get_today():\n",
        "  today = datetime.datetime.today()\n",
        "  value = (today.year, today.month, today.day)\n",
        "  return value\n",
        "\n",
        "test_tuple = get_today()\n",
        "\n",
        "print(test_tuple)\n",
        "print(test_tuple[0])\n",
        "print(test_tuple[1])\n",
        "print(test_tuple[2])"
      ]
    },
    {
      "cell_type": "code",
      "source": [
        "# リスト　作成した後も要素の追加や削除が出来る\n",
        "\n",
        "test_list_1 = ['python', '-','izm','.','com']\n",
        "print(test_list_1)\n",
        "\n",
        "print('--------------------------------------------')\n",
        "\n",
        "for i in test_list_1:\n",
        "  print(i)"
      ],
      "metadata": {
        "colab": {
          "base_uri": "https://localhost:8080/"
        },
        "id": "wCuskvr_P6tG",
        "outputId": "60175de4-42ad-457d-8429-4098c25dc054"
      },
      "execution_count": null,
      "outputs": [
        {
          "output_type": "stream",
          "name": "stdout",
          "text": [
            "['python', '-', 'izm', '.', 'com']\n",
            "--------------------------------------------\n",
            "python\n",
            "-\n",
            "izm\n",
            ".\n",
            "com\n"
          ]
        }
      ]
    },
    {
      "cell_type": "code",
      "source": [
        "# 要素の追加\n",
        "test_list_1 = [] # 空のリストを作成\n",
        "print(test_list_1)\n",
        "\n",
        "print('---------------------------------------------')\n",
        "\n",
        "# 以下、要素の追加\n",
        "test_list_1.append('python')\n",
        "test_list_1.append('-')\n",
        "test_list_1.append('izm')\n",
        "test_list_1.append('.')\n",
        "test_list_1.append('com')\n",
        "\n",
        "print(test_list_1)"
      ],
      "metadata": {
        "colab": {
          "base_uri": "https://localhost:8080/"
        },
        "id": "eh0t0r66Q1um",
        "outputId": "2d13d354-a8e5-4e6d-b167-160ffb3acc6f"
      },
      "execution_count": null,
      "outputs": [
        {
          "output_type": "stream",
          "name": "stdout",
          "text": [
            "[]\n",
            "---------------------------------------------\n",
            "['python', '-', 'izm', '.', 'com']\n"
          ]
        }
      ]
    },
    {
      "cell_type": "code",
      "source": [
        "# インデックスを使用して追加\n",
        "test_list_1 = ['python','izm','com']\n",
        "print(test_list_1)\n",
        "print('---------------------------------------------')\n",
        "\n",
        "# 第一引数は追加箇所を表すインデックス値、第二引数は追加を行う要素\n",
        "\n",
        "test_list_1.insert(1, '-')\n",
        "test_list_1.insert(3, '.')\n",
        "\n",
        "print(test_list_1)\n",
        "\n",
        "# インデックス値をゼロにするとリスト先頭への追加が行われる\n",
        "test_list_1.insert(0, 'http://www.')\n",
        "\n",
        "print(test_list_1)\n"
      ],
      "metadata": {
        "colab": {
          "base_uri": "https://localhost:8080/"
        },
        "id": "1df5umqKSQPx",
        "outputId": "aa543edc-1b3e-458c-a012-8259b8afd967"
      },
      "execution_count": null,
      "outputs": [
        {
          "output_type": "stream",
          "name": "stdout",
          "text": [
            "['python', 'izm', 'com']\n",
            "---------------------------------------------\n",
            "['python', '-', 'izm', '.', 'com']\n",
            "['http://www.', 'python', '-', 'izm', '.', 'com']\n"
          ]
        }
      ]
    },
    {
      "cell_type": "code",
      "source": [
        "# 要素の削除\n",
        "test_list_1 = ['1','2','3','2','1']\n",
        "test_list_2 = ['あ','い','う','あ','お']\n",
        "print(test_list_1)\n",
        "\n",
        "print('----------------------------------')\n",
        "# removeは第一引数に該当する要素を削除（要素の内容を入力し存在していれば削除）\n",
        "# 最初に見つけた要素のみ削除\n",
        "test_list_1.remove('2')\n",
        "test_list_2.remove('あ')\n",
        "\n",
        "print(test_list_1)\n",
        "print(test_list_2)"
      ],
      "metadata": {
        "colab": {
          "base_uri": "https://localhost:8080/"
        },
        "id": "cKT4tfElTctV",
        "outputId": "9adf7e1c-5bb2-47c6-d2cd-20b9e5c2d9f3"
      },
      "execution_count": null,
      "outputs": [
        {
          "output_type": "stream",
          "name": "stdout",
          "text": [
            "['1', '2', '3', '2', '1']\n",
            "----------------------------------\n",
            "['1', '3', '2', '1']\n",
            "['い', 'う', 'あ', 'お']\n"
          ]
        }
      ]
    },
    {
      "cell_type": "code",
      "source": [
        "# 要素の削除2\n",
        "test_list_1 = ['1','2','3','2','5']\n",
        "\n",
        "print(test_list_1)\n",
        "\n",
        "print('----------------------------------')\n",
        "# popは指定されたインデックス値に存在する要素の削除を行い、削除された要素を戻り値として返す\n",
        "print(test_list_1.pop(1))\n",
        "print(test_list_1)\n",
        "# 引数なしで指定すると「末尾」の要素が削除\n",
        "print(test_list_1.pop())\n",
        "print(test_list_1)\n"
      ],
      "metadata": {
        "colab": {
          "base_uri": "https://localhost:8080/"
        },
        "id": "7yAMBOr_VhwE",
        "outputId": "797d70c2-f36f-448b-dd52-3e12e29cd92f"
      },
      "execution_count": null,
      "outputs": [
        {
          "output_type": "stream",
          "name": "stdout",
          "text": [
            "['1', '2', '3', '2', '5']\n",
            "----------------------------------\n",
            "2\n",
            "['1', '3', '2', '5']\n",
            "5\n",
            "['1', '3', '2']\n"
          ]
        }
      ]
    },
    {
      "cell_type": "code",
      "source": [
        "# 要素のインデックスを取得\n",
        "test_list_1 = ['100','200','300','200','200']\n",
        "\n",
        "# indexを使用すると引数に入力した要素に該当するインデックス値を取得\n",
        "print(test_list_1.index('200'))\n",
        "print(test_list_1.index('300'))\n",
        "\n",
        "# リスト内での要素数を取得(引数に入力した要素がいくつあるのかを取得)\n",
        "print(test_list_1.count('200'))"
      ],
      "metadata": {
        "colab": {
          "base_uri": "https://localhost:8080/"
        },
        "id": "DYhSpY__W8X8",
        "outputId": "4873d459-32ad-4242-d9cb-f605f91081e6"
      },
      "execution_count": null,
      "outputs": [
        {
          "output_type": "stream",
          "name": "stdout",
          "text": [
            "1\n",
            "2\n",
            "3\n"
          ]
        }
      ]
    },
    {
      "cell_type": "code",
      "source": [
        "# ディクショナリ\n",
        "# リストと同じような構造だが、キーとなる値とバリューとなる値をセットで一つの要素として持つことができる\n",
        "# タプルは「（）」、リストは「[]」、ディクショナリは「{}」\n",
        "# ディクショナリに対して繰り返し処理を行うとkeyが取得できるのでそれを利用してvalueを取り出す\n",
        "test_dict_1 = {'YEAR':'2010', 'MONTH':'1', 'DAY':'20'}\n",
        "\n",
        "print(test_dict_1)\n",
        "print('----------------------------------------------------------------')\n",
        "\n",
        "for i in test_dict_1:\n",
        "  print(i)\n",
        "  print(test_dict_1[i])\n",
        "  print('----------------------------------------------------------------')"
      ],
      "metadata": {
        "colab": {
          "base_uri": "https://localhost:8080/"
        },
        "id": "-_CWCuJhQBdi",
        "outputId": "bc5a13ff-86c6-484c-da80-c891ef546372"
      },
      "execution_count": null,
      "outputs": [
        {
          "output_type": "stream",
          "name": "stdout",
          "text": [
            "{'YEAR': '2010', 'MONTH': '1', 'DAY': '20'}\n",
            "----------------------------------------------------------------\n",
            "YEAR\n",
            "2010\n",
            "----------------------------------------------------------------\n",
            "MONTH\n",
            "1\n",
            "----------------------------------------------------------------\n",
            "DAY\n",
            "20\n",
            "----------------------------------------------------------------\n"
          ]
        }
      ]
    },
    {
      "cell_type": "code",
      "source": [
        "# valueの取得\n",
        "\n",
        "test_dict_1 = {'YEAR':'2010', 'MONTH':'1', 'DAY':'20'}\n",
        "print(' ディレクトリ　　test_dict_1の出力結果')\n",
        "print(test_dict_1)\n",
        "print('----------------------------------------------------------------')\n",
        "# KEYを設定し、valueを取得する\n",
        "print('test_dict_1[''YEAR'']の出力結果')\n",
        "print(test_dict_1['YEAR'])\n",
        "\n",
        "#print(test_dict_1['YEARS'])　 左記の構文だとエラー発生\n",
        "print('----------------------------------------------------------------')\n",
        "print('test_dict_1.get[''YEAR'']の出力結果')\n",
        "print(test_dict_1.get('YEAR'))\n",
        "#　エラーは発生しない。「None」と表示される\n",
        "print('test_dict_1.get[''YEARS'']の出力結果')\n",
        "print(test_dict_1.get('YEARS'))\n",
        "print('----------------------------------------------------------------')\n",
        "print(test_dict_1.get('YEAR','NOT FOUND'))\n",
        "#　エラーは発生しない。keyが存在しない場合、第二引数で表示するデフォルト値を設定することができる\n",
        "print(test_dict_1.get('YEARS','NOT FOUND'))\n",
        "print('----------------------------------------------------------------')"
      ],
      "metadata": {
        "colab": {
          "base_uri": "https://localhost:8080/"
        },
        "id": "DFeQvF-ZTw1z",
        "outputId": "7cf1edef-c1ac-44f0-c0a0-9be5235be035"
      },
      "execution_count": null,
      "outputs": [
        {
          "output_type": "stream",
          "name": "stdout",
          "text": [
            " ディレクトリ　　test_dict_1の出力結果\n",
            "{'YEAR': '2010', 'MONTH': '1', 'DAY': '20'}\n",
            "----------------------------------------------------------------\n",
            "test_dict_1[YEAR]の出力結果\n",
            "2010\n",
            "----------------------------------------------------------------\n",
            "test_dict_1.get[YEAR]の出力結果\n",
            "2010\n",
            "test_dict_1.get[YEARS]の出力結果\n",
            "None\n",
            "----------------------------------------------------------------\n",
            "2010\n",
            "NOT FOUND\n",
            "----------------------------------------------------------------\n"
          ]
        }
      ]
    },
    {
      "cell_type": "code",
      "source": [
        "# ディクショナリの要素の追加\n",
        "test_dict_1 = {}\n",
        "# 空のディクショナリを用意して出力する\n",
        "print(test_dict_1)\n",
        "print('----------------------------------------------------------------')\n",
        "test_dict_1['YEAR'] = '2010'\n",
        "test_dict_1['MONTH'] = '1'\n",
        "test_dict_1['DAY'] = '20'\n",
        "\n",
        "print(test_dict_1)\n",
        "print('----------------------------------------------------------------')\n",
        "\n",
        "print(test_dict_1.get('YEAR'))\n"
      ],
      "metadata": {
        "colab": {
          "base_uri": "https://localhost:8080/"
        },
        "id": "0j9ARvL9X-Fv",
        "outputId": "753b9630-088e-412d-8e2a-c1d09827154b"
      },
      "execution_count": null,
      "outputs": [
        {
          "output_type": "stream",
          "name": "stdout",
          "text": [
            "{}\n",
            "----------------------------------------------------------------\n",
            "{'YEAR': '2010', 'MONTH': '1', 'DAY': '20'}\n",
            "----------------------------------------------------------------\n",
            "2010\n"
          ]
        }
      ]
    },
    {
      "cell_type": "code",
      "source": [
        "# 要素の削除\n",
        "test_dict_1 = {'YEAR':'2010', 'MONTH':'1', 'DAY':'20'}\n",
        "print(test_dict_1)\n",
        "print('----------------------------------------------------------------')\n",
        "del test_dict_1['DAY'] # delの後に削除するkeyを指定する\n",
        "\n",
        "print(test_dict_1)"
      ],
      "metadata": {
        "colab": {
          "base_uri": "https://localhost:8080/"
        },
        "id": "DmPOKTWZnUD9",
        "outputId": "4f66ddc3-575e-4ec7-aefe-908573fd0380"
      },
      "execution_count": null,
      "outputs": [
        {
          "output_type": "stream",
          "name": "stdout",
          "text": [
            "{'YEAR': '2010', 'MONTH': '1', 'DAY': '20'}\n",
            "----------------------------------------------------------------\n",
            "{'YEAR': '2010', 'MONTH': '1'}\n"
          ]
        }
      ]
    },
    {
      "cell_type": "code",
      "source": [
        "# keyやvalueだけを取得する\n",
        "test_dict_1 = {'YEAR':'2010', 'MONTH':'1', 'DAY':'20'}\n",
        "\n",
        "print(test_dict_1)\n",
        "\n",
        "print('----------------------------------------------------------------')\n",
        "print(test_dict_1.keys()) # keyのみを取得\n",
        "print(test_dict_1.values()) # valueのみを取得"
      ],
      "metadata": {
        "id": "rIfcA94ImSaQ",
        "colab": {
          "base_uri": "https://localhost:8080/"
        },
        "outputId": "43d39e65-f170-48bc-a604-0bd5e1fc8552"
      },
      "execution_count": null,
      "outputs": [
        {
          "output_type": "stream",
          "name": "stdout",
          "text": [
            "{'YEAR': '2010', 'MONTH': '1', 'DAY': '20'}\n",
            "----------------------------------------------------------------\n",
            "dict_keys(['YEAR', 'MONTH', 'DAY'])\n",
            "dict_values(['2010', '1', '20'])\n"
          ]
        }
      ]
    },
    {
      "cell_type": "code",
      "source": [
        "# keyやvalueを同時に取得する\n",
        "test_dict_1 = {'YEAR':'2010', 'MONTH':'1', 'DAY':'20'}\n",
        "\n",
        "print(test_dict_1)\n",
        "\n",
        "print('----------------------------------------------------------------')\n",
        "for YMD, ATAI in test_dict_1.items(): # itemsを使用するとkeyとvalueの両方の情報を取得\n",
        "  print(YMD, ATAI)"
      ],
      "metadata": {
        "id": "T9e8_OjD6gAF"
      },
      "execution_count": null,
      "outputs": []
    },
    {
      "cell_type": "code",
      "source": [
        "# keyを保持しているかを確認\n",
        "test_dict_1 = {'YEAR':'2010', 'MONTH':'1', 'DAY':'20'}\n",
        "\n",
        "print(test_dict_1)\n",
        "print('----------------------------------------------------------------')\n",
        "# inを使用し指定のキーを保持しているのかを確認する\n",
        "print('YEAR' in test_dict_1)\n",
        "print('YEARS' in test_dict_1)"
      ],
      "metadata": {
        "colab": {
          "base_uri": "https://localhost:8080/"
        },
        "id": "FGlIhtja8Di5",
        "outputId": "d23d71cd-2c33-4262-94ba-0a6d28f3047f"
      },
      "execution_count": null,
      "outputs": [
        {
          "output_type": "stream",
          "name": "stdout",
          "text": [
            "{'YEAR': '2010', 'MONTH': '1', 'DAY': '20'}\n",
            "----------------------------------------------------------------\n",
            "True\n",
            "False\n"
          ]
        }
      ]
    },
    {
      "cell_type": "code",
      "source": [
        "# セット　＝　集合とも呼ばれる\n",
        "# リストと同じように要素を追加、削除することが出来ますが、重複した要素を持つことが出来ないのが特徴です。\n",
        "# セットの基本\n",
        "test_set_1 = {'python', '-', 'izm', '.', 'com'}\n",
        "print(test_set_1)\n",
        "# 出力順は決まっていない\n",
        "test_set_2 = {'fantastics', 'rampage', '3jsb', 'gene', 'exile'}\n",
        "print(test_set_2)\n",
        "print('---------------------------------------------------------------------------')\n",
        "\n",
        "for i in test_set_1:\n",
        "  print(i)\n",
        "  \n",
        "print('---------------------------------------------------------------------------')\n",
        "\n",
        "for l in test_set_2:\n",
        "  print(l)"
      ],
      "metadata": {
        "colab": {
          "base_uri": "https://localhost:8080/"
        },
        "id": "DpQ78tQT-9rW",
        "outputId": "0b8eb7e5-e67b-4a9e-d008-85b39cc64469"
      },
      "execution_count": 10,
      "outputs": [
        {
          "output_type": "stream",
          "name": "stdout",
          "text": [
            "{'izm', '.', 'com', '-', 'python'}\n",
            "{'fantastics', '3jsb', 'gene', 'exile', 'rampage'}\n",
            "---------------------------------------------------------------------------\n",
            "izm\n",
            ".\n",
            "com\n",
            "-\n",
            "python\n",
            "---------------------------------------------------------------------------\n",
            "fantastics\n",
            "3jsb\n",
            "gene\n",
            "exile\n",
            "rampage\n"
          ]
        }
      ]
    },
    {
      "cell_type": "code",
      "source": [
        "# これはディクショナリ\n",
        "test_dict = {}\n",
        "\n",
        "# これはセット\n",
        "test_set = {'python'}\n",
        "\n",
        "# 空のセットは「set」を使う\n",
        "empty_set = set()\n",
        "\n",
        "# 重複した値を持つことは出来ません。重複した値を入力しても出力結果は１つしか表示されません。\n",
        "test_set_1 = {'python', '-', 'izm', '.' ,'com', 'python', 'izm'}\n",
        "print(test_set_1)\n",
        "\n",
        "print('---------------------------------------------------------------------------')\n",
        "\n",
        "for i in test_set_1:\n",
        "  print(i)"
      ],
      "metadata": {
        "colab": {
          "base_uri": "https://localhost:8080/"
        },
        "id": "_97hORC_CU4h",
        "outputId": "63776850-79e2-4f34-d767-3f00ae757e03"
      },
      "execution_count": 12,
      "outputs": [
        {
          "output_type": "stream",
          "name": "stdout",
          "text": [
            "{'izm', '.', 'com', '-', 'python'}\n",
            "---------------------------------------------------------------------------\n",
            "izm\n",
            ".\n",
            "com\n",
            "-\n",
            "python\n"
          ]
        }
      ]
    },
    {
      "cell_type": "code",
      "source": [
        "# 要素の追加\n",
        "test_set_1 = set()\n",
        "\n",
        "# 単一の要素を追加する場合はadd\n",
        "test_set_1.add('python')\n",
        "\n",
        "# 他のセットやリスト、タプルなどから要素を追加する場合は、updateを追加する。\n",
        "test_set_1.update({'-', 'izm', '.', 'com'})\n",
        "\n",
        "print(test_set_1)"
      ],
      "metadata": {
        "colab": {
          "base_uri": "https://localhost:8080/"
        },
        "id": "zosXRxhoGaFm",
        "outputId": "9375a545-65b1-4122-e0e5-ad733409ff18"
      },
      "execution_count": 13,
      "outputs": [
        {
          "output_type": "stream",
          "name": "stdout",
          "text": [
            "{'izm', '.', 'com', '-', 'python'}\n"
          ]
        }
      ]
    },
    {
      "cell_type": "code",
      "source": [
        "# 要素の削除\n",
        "test_set_1 = {'python', '-', 'izm', '.', 'com'}\n",
        "\n",
        "test_set_1.remove('-')\n",
        "test_set_1.discard('.')\n",
        "\n",
        "print(test_set_1)"
      ],
      "metadata": {
        "colab": {
          "base_uri": "https://localhost:8080/"
        },
        "id": "OxmPfy5ZI_eM",
        "outputId": "0ca8e040-29c0-49b2-942c-cc028aebb3b2"
      },
      "execution_count": 14,
      "outputs": [
        {
          "output_type": "stream",
          "name": "stdout",
          "text": [
            "{'izm', 'com', 'python'}\n"
          ]
        }
      ]
    },
    {
      "cell_type": "code",
      "source": [
        "# 要素の削除\n",
        "test_set_1 = frozenset({'python', '-', 'izm', '.', 'com'})\n",
        "\n",
        "# frozensetでsetした値にadd,update,remove,discardを行おうとするとエラーが発生する\n",
        "#test_set_1.remove('-')\n",
        "#test_set_1.discard('.')\n",
        "\n",
        "print(test_set_1)"
      ],
      "metadata": {
        "colab": {
          "base_uri": "https://localhost:8080/"
        },
        "id": "9zYAuFKVJuEi",
        "outputId": "f29af1db-b2c8-423b-cf6d-b315ad2dad0c"
      },
      "execution_count": 22,
      "outputs": [
        {
          "output_type": "stream",
          "name": "stdout",
          "text": [
            "frozenset({'izm', '.', 'com', '-', 'python'})\n"
          ]
        }
      ]
    }
  ]
}