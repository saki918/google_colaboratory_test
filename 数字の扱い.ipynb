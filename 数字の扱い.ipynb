{
  "nbformat": 4,
  "nbformat_minor": 0,
  "metadata": {
    "colab": {
      "provenance": [],
      "include_colab_link": true
    },
    "kernelspec": {
      "name": "python3",
      "display_name": "Python 3"
    },
    "language_info": {
      "name": "python"
    },
    "accelerator": "GPU",
    "gpuClass": "standard"
  },
  "cells": [
    {
      "cell_type": "markdown",
      "metadata": {
        "id": "view-in-github",
        "colab_type": "text"
      },
      "source": [
        "<a href=\"https://colab.research.google.com/github/saki918/google_colaboratory_test/blob/main/%E6%95%B0%E5%AD%97%E3%81%AE%E6%89%B1%E3%81%84.ipynb\" target=\"_parent\"><img src=\"https://colab.research.google.com/assets/colab-badge.svg\" alt=\"Open In Colab\"/></a>"
      ]
    },
    {
      "cell_type": "code",
      "execution_count": null,
      "metadata": {
        "colab": {
          "base_uri": "https://localhost:8080/"
        },
        "id": "pge0rTmLSuyK",
        "outputId": "b6cf763c-f168-4097-e5fe-cfa2939fd3b2"
      },
      "outputs": [
        {
          "output_type": "stream",
          "name": "stdout",
          "text": [
            "110\n",
            "90\n",
            "1000\n",
            "10.0\n"
          ]
        }
      ],
      "source": [
        "# 四則演算\n",
        "test_integer = 100\n",
        "print(test_integer + 10)  # 加算（足し算）\n",
        "print(test_integer - 10)  # 減算（引き算）\n",
        "print(test_integer * 10)  # 乗算（掛け算）\n",
        "print(test_integer / 10)  # 除算（割り算）"
      ]
    },
    {
      "cell_type": "code",
      "source": [
        "# 数値への変換\n",
        "test_str = \"100\"\n",
        "\n",
        "print(int(test_str) + 100)"
      ],
      "metadata": {
        "colab": {
          "base_uri": "https://localhost:8080/"
        },
        "id": "ZNLSK-NJT7Or",
        "outputId": "425e553a-6f57-4127-c4ab-913a5390b447"
      },
      "execution_count": null,
      "outputs": [
        {
          "output_type": "stream",
          "name": "stdout",
          "text": [
            "200\n"
          ]
        }
      ]
    },
    {
      "cell_type": "code",
      "source": [
        "# 浮動小数点数\n",
        "test_str = \"100.5\"\n",
        "print(float(test_str) + 100)\n",
        "\n",
        "#print(float(test_str) + 100)\n",
        "\n",
        "# 整数部が0の場合はそれを省略して記述することができる。\n",
        "test_float = .5\n",
        "\n",
        "print(test_float)"
      ],
      "metadata": {
        "colab": {
          "base_uri": "https://localhost:8080/"
        },
        "id": "9GdrWcZVUFem",
        "outputId": "2f18114f-6162-4a20-e6e7-e52ad5bfeb59"
      },
      "execution_count": null,
      "outputs": [
        {
          "output_type": "stream",
          "name": "stdout",
          "text": [
            "200.5\n",
            "0.5\n"
          ]
        }
      ]
    },
    {
      "cell_type": "code",
      "source": [
        "# 複素数　α = a+bi で表される数 \n",
        "test_complex = 100 + 5j\n",
        "\n",
        "print(test_complex)\n",
        "# 実数の表示\n",
        "print(test_complex.real)\n",
        "# 虚数の表示\n",
        "print(test_complex.imag)"
      ],
      "metadata": {
        "colab": {
          "base_uri": "https://localhost:8080/"
        },
        "id": "IukTvA_yXZmf",
        "outputId": "6fd55c16-5cb7-4f4f-e260-2a5037e8f9ae"
      },
      "execution_count": null,
      "outputs": [
        {
          "output_type": "stream",
          "name": "stdout",
          "text": [
            "(100+5j)\n",
            "100.0\n",
            "5.0\n"
          ]
        }
      ]
    }
  ]
}