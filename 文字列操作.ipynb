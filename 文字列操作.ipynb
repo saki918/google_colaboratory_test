{
  "nbformat": 4,
  "nbformat_minor": 0,
  "metadata": {
    "colab": {
      "provenance": [],
      "include_colab_link": true
    },
    "kernelspec": {
      "name": "python3",
      "display_name": "Python 3"
    },
    "language_info": {
      "name": "python"
    }
  },
  "cells": [
    {
      "cell_type": "markdown",
      "metadata": {
        "id": "view-in-github",
        "colab_type": "text"
      },
      "source": [
        "<a href=\"https://colab.research.google.com/github/saki918/google_colaboratory_test/blob/main/%E6%96%87%E5%AD%97%E5%88%97%E6%93%8D%E4%BD%9C.ipynb\" target=\"_parent\"><img src=\"https://colab.research.google.com/assets/colab-badge.svg\" alt=\"Open In Colab\"/></a>"
      ]
    },
    {
      "cell_type": "code",
      "execution_count": null,
      "metadata": {
        "colab": {
          "base_uri": "https://localhost:8080/"
        },
        "id": "4BGmPUDaAR3P",
        "outputId": "204776c5-1068-4656-a1ff-1880b3153663"
      },
      "outputs": [
        {
          "output_type": "stream",
          "name": "stdout",
          "text": [
            "python-ism 学習\n",
            "\n",
            "test_1\n",
            "test_2\n",
            "\n"
          ]
        }
      ],
      "source": [
        "# 文字の出力\n",
        "print('python-ism 学習')\n",
        "\n",
        "# 文字列の複数行に分けての出力\n",
        "test_str = \"\"\"\n",
        "test_1\n",
        "test_2\n",
        "\"\"\"\n",
        "print(test_str)\n"
      ]
    },
    {
      "cell_type": "markdown",
      "source": [],
      "metadata": {
        "id": "vkWF92F5IhFG"
      }
    },
    {
      "cell_type": "code",
      "source": [
        "# 文字列の連結\n",
        "test_str = \"python\"\n",
        "test_str = test_str + \"-\"\n",
        "test_str = test_str + \"izm\"\n",
        "test_str = test_str + \"学習\" * 5\n",
        "print(test_str)"
      ],
      "metadata": {
        "colab": {
          "base_uri": "https://localhost:8080/"
        },
        "id": "DtNZr4WuIiF7",
        "outputId": "efcf9e4a-03ed-4445-9e3d-d49bb3d693f7"
      },
      "execution_count": null,
      "outputs": [
        {
          "output_type": "stream",
          "name": "stdout",
          "text": [
            "python-izm学習学習学習学習学習\n"
          ]
        }
      ]
    },
    {
      "cell_type": "code",
      "source": [
        "# 文字列への変換\n",
        "test_integer = 100\n",
        "\n",
        "print(str(test_integer)+\"円\")"
      ],
      "metadata": {
        "colab": {
          "base_uri": "https://localhost:8080/"
        },
        "id": "4XK9ncE4Jd6e",
        "outputId": "d6096c66-3bbf-4c9f-f1f1-d4e82e0fd53e"
      },
      "execution_count": null,
      "outputs": [
        {
          "output_type": "stream",
          "name": "stdout",
          "text": [
            "100円\n"
          ]
        }
      ]
    },
    {
      "cell_type": "code",
      "source": [
        "#　文字列への置換\n",
        "test_str = \"python-izm\"\n",
        "\n",
        "print(test_str.replace(\"izm\", \"ism\"))"
      ],
      "metadata": {
        "colab": {
          "base_uri": "https://localhost:8080/"
        },
        "id": "qZSqoUW3Je6b",
        "outputId": "25117796-eee9-4ddb-d7c4-9487520b41d8"
      },
      "execution_count": null,
      "outputs": [
        {
          "output_type": "stream",
          "name": "stdout",
          "text": [
            "python-ism\n"
          ]
        }
      ]
    },
    {
      "cell_type": "code",
      "source": [
        "# 文字列の分割\n",
        "test_str = \"python-izm\"\n",
        "# リストという形で戻り値を返す\n",
        "print(test_str.split(\"-\"))"
      ],
      "metadata": {
        "colab": {
          "base_uri": "https://localhost:8080/"
        },
        "id": "7TXLkUnOKTlP",
        "outputId": "7b55ccee-0933-4d0f-924e-4d076fcea7b2"
      },
      "execution_count": null,
      "outputs": [
        {
          "output_type": "stream",
          "name": "stdout",
          "text": [
            "['python', 'izm']\n"
          ]
        }
      ]
    },
    {
      "cell_type": "code",
      "source": [
        "# 文字列の桁揃え\n",
        "test_str = \"1234\"\n",
        "# 文字列の左に値を埋める場合はrjustを使用。\n",
        "# 第一引数が埋めた後の桁数。第二引数が埋め込む文字列\n",
        "print(test_str.rjust(10,\"0\"))\n",
        "print(test_str.rjust(10,\"あ\"))\n",
        "# 特定の文字列を指定せずゼロで桁埋めする場合はzfillを使用\n",
        "print(test_str.zfill(10))\n",
        "print(test_str.zfill(3))\n"
      ],
      "metadata": {
        "colab": {
          "base_uri": "https://localhost:8080/"
        },
        "id": "d7OolcdiK8kg",
        "outputId": "0bba7499-68a3-43df-c2cb-66a1374fb8e3"
      },
      "execution_count": null,
      "outputs": [
        {
          "output_type": "stream",
          "name": "stdout",
          "text": [
            "0000001234\n",
            "ああああああ1234\n",
            "0000001234\n",
            "1234\n"
          ]
        }
      ]
    },
    {
      "cell_type": "code",
      "source": [
        "# 文字列の検索\n",
        "test_str = 'python-izm'\n",
        "# 文字列の先頭が任意文字であるかを調べる。\n",
        "# 戻り値はtrueかfalseです。\n",
        "print(test_str.startswith(\"python\"))\n",
        "print(test_str.startswith(\"izm\"))\n",
        "\n",
        "# 文字列中に任意の文字が含まれているのかを調査\n",
        "# 戻り値はtrueかfalseです。\n",
        "print(\"z\" in test_str)\n",
        "print(\"s\" in test_str)"
      ],
      "metadata": {
        "colab": {
          "base_uri": "https://localhost:8080/"
        },
        "id": "0MpF1F_wM47Q",
        "outputId": "e66624dc-68a1-4053-ad90-615c6d1dde53"
      },
      "execution_count": null,
      "outputs": [
        {
          "output_type": "stream",
          "name": "stdout",
          "text": [
            "True\n",
            "False\n",
            "True\n",
            "False\n"
          ]
        }
      ]
    },
    {
      "cell_type": "code",
      "source": [
        "# 文字列の大文字・小文字変換\n",
        "test_str = \"Python-Izm.Com\"\n",
        "# 全ての文字を大文字に変換\n",
        "print(test_str.upper())\n",
        "# 全ての文字を小文字に変換\n",
        "print(test_str.lower())"
      ],
      "metadata": {
        "colab": {
          "base_uri": "https://localhost:8080/"
        },
        "id": "pqsiXbOeOizY",
        "outputId": "7cebce94-91b5-4283-8a95-b406250c6fa4"
      },
      "execution_count": null,
      "outputs": [
        {
          "output_type": "stream",
          "name": "stdout",
          "text": [
            "PYTHON-IZM.COM\n",
            "python-izm.com\n"
          ]
        }
      ]
    },
    {
      "cell_type": "code",
      "source": [
        "# 先頭・末尾の削除\n",
        "print(\"-----------------------------------------------------------\")\n",
        "\n",
        "test_str = \"       python-izm.com\"\n",
        "print(test_str)\n",
        "# 先頭の削除(引数が無しの場合は\"空白\"を削除)\n",
        "test_str = test_str.lstrip()\n",
        "print(test_str)\n",
        "# 先頭のpythonの文言を削除\n",
        "test_str = test_str.lstrip(\"python\")\n",
        "print(test_str)\n",
        "# 先頭のcomを削除(エラーの影響なのか内容が反映されない)\n",
        "test_str = test_str.lstrip(\"com\")\n",
        "print(test_str)\n",
        "\n",
        "print(\"-----------------------------------------------------------\")\n",
        "\n",
        "test_str = \"python-izm.com          \"\n",
        "print(test_str + \"/\")\n",
        "# 末尾の空白の削除\n",
        "test_str = test_str.rstrip()\n",
        "print(test_str + \"/\")\n",
        "# 末尾のcomを削除\n",
        "test_str = test_str.rstrip(\"com\")\n",
        "print(test_str)\n",
        "# 末尾のpythonの文言を削除(エラーの影響なのか内容が反映されない)\n",
        "test_str = test_str.rstrip(\"python\")\n",
        "print(test_str)\n"
      ],
      "metadata": {
        "colab": {
          "base_uri": "https://localhost:8080/"
        },
        "id": "GvEliMvkPCAq",
        "outputId": "27011399-9296-4396-a4cd-e66fa52e7cac"
      },
      "execution_count": null,
      "outputs": [
        {
          "output_type": "stream",
          "name": "stdout",
          "text": [
            "-----------------------------------------------------------\n",
            "       python-izm.com\n",
            "python-izm.com\n",
            "-izm.com\n",
            "-izm.com\n",
            "-----------------------------------------------------------\n",
            "python-izm.com          /\n",
            "python-izm.com/\n",
            "python-izm.\n",
            "python-izm.\n"
          ]
        }
      ]
    }
  ]
}