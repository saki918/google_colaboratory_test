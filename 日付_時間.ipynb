{
  "nbformat": 4,
  "nbformat_minor": 0,
  "metadata": {
    "colab": {
      "provenance": [],
      "include_colab_link": true
    },
    "kernelspec": {
      "name": "python3",
      "display_name": "Python 3"
    },
    "language_info": {
      "name": "python"
    }
  },
  "cells": [
    {
      "cell_type": "markdown",
      "metadata": {
        "id": "view-in-github",
        "colab_type": "text"
      },
      "source": [
        "<a href=\"https://colab.research.google.com/github/saki918/google_colaboratory_test/blob/main/%E6%97%A5%E4%BB%98_%E6%99%82%E9%96%93.ipynb\" target=\"_parent\"><img src=\"https://colab.research.google.com/assets/colab-badge.svg\" alt=\"Open In Colab\"/></a>"
      ]
    },
    {
      "cell_type": "code",
      "execution_count": null,
      "metadata": {
        "id": "58UPEoasZlE-",
        "colab": {
          "base_uri": "https://localhost:8080/"
        },
        "outputId": "b0a079bd-c705-4ac8-c98a-2e0e8ce10182"
      },
      "outputs": [
        {
          "output_type": "stream",
          "name": "stdout",
          "text": [
            "-------------------------------------------------------\n",
            "2023-03-10\n",
            "2023-03-10 05:09:28.754004\n",
            "-------------------------------------------------------\n",
            "2023\n",
            "3\n",
            "10\n",
            "2023\n",
            "3\n",
            "10\n",
            "5\n",
            "9\n",
            "28\n",
            "754004\n",
            "-------------------------------------------------------\n",
            "2023-03-10\n",
            "2023/03/10 05:09:28\n"
          ]
        }
      ],
      "source": [
        "# 日付・時間\n",
        "import datetime\n",
        "\n",
        "today = datetime.date.today()\n",
        "todaydetail = datetime.datetime.today()\n",
        "\n",
        "# 今日の日付\n",
        "print(\"-------------------------------------------------------\")\n",
        "print(today)\n",
        "print(todaydetail)\n",
        "\n",
        "# 今日の日付：それぞれの値\n",
        "print(\"-------------------------------------------------------\")\n",
        "print(today.year)\n",
        "print(today.month)\n",
        "print(today.day)\n",
        "print(todaydetail.year)\n",
        "print(todaydetail.month)\n",
        "print(todaydetail.day)\n",
        "print(todaydetail.hour)\n",
        "print(todaydetail.minute)\n",
        "print(todaydetail.second)\n",
        "print(todaydetail.microsecond)\n",
        "\n",
        "# 日付のフォーマット\n",
        "print(\"-------------------------------------------------------\")\n",
        "print(today.isoformat())\n",
        "print(todaydetail.strftime(\"%Y/%m/%d %H:%M:%S\"))"
      ]
    },
    {
      "cell_type": "code",
      "source": [
        "# 日付の計算\n",
        "import datetime\n",
        "\n",
        "today = datetime.datetime.today()\n",
        "\n",
        "# 今日の日付\n",
        "print(today)\n",
        "\n",
        "# 明日の日付\n",
        "print(today + datetime.timedelta(days=1))\n",
        "newyear = datetime.datetime(2010, 1, 1)\n",
        "\n",
        "# 2010年1月1日の1週間後\n",
        "print(newyear + datetime.timedelta(days=7))\n",
        "\n",
        "# 2010年1月1日から今日までの日数\n",
        "calc = today - newyear\n",
        "\n",
        "# 計算結果の戻り値は「timedelta」\n",
        "print(calc.days)\n"
      ],
      "metadata": {
        "colab": {
          "base_uri": "https://localhost:8080/"
        },
        "id": "aAde3X5r7QD_",
        "outputId": "8a4cf89e-35d8-481a-ee55-de54b3b7e865"
      },
      "execution_count": null,
      "outputs": [
        {
          "output_type": "stream",
          "name": "stdout",
          "text": [
            "2023-03-10 05:26:20.437314\n",
            "2023-03-11 05:26:20.437314\n",
            "2010-01-08 00:00:00\n",
            "4816\n"
          ]
        }
      ]
    },
    {
      "cell_type": "code",
      "source": [
        "# 閏年の判定\n",
        "import calendar\n",
        "\n",
        "print(calendar.isleap(2015))\n",
        "print(calendar.isleap(2016))\n",
        "print(calendar.isleap(2017))\n",
        "\n",
        "# 指定した期間内に何回の閏年があるのか\n",
        "print(calendar.leapdays(2010, 2020))"
      ],
      "metadata": {
        "colab": {
          "base_uri": "https://localhost:8080/"
        },
        "id": "HDRjvu2R_Cfv",
        "outputId": "a9ef741d-efc8-44f4-94d9-4331009282fe"
      },
      "execution_count": null,
      "outputs": [
        {
          "output_type": "stream",
          "name": "stdout",
          "text": [
            "False\n",
            "True\n",
            "False\n",
            "2\n"
          ]
        }
      ]
    },
    {
      "cell_type": "code",
      "source": [],
      "metadata": {
        "id": "GZq-MZEBOXIS"
      },
      "execution_count": null,
      "outputs": []
    }
  ]
}